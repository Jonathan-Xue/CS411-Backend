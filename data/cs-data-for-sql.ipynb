{
 "cells": [
  {
   "cell_type": "code",
   "execution_count": null,
   "metadata": {},
   "outputs": [],
   "source": [
    "import pandas as pd"
   ]
  },
  {
   "cell_type": "code",
   "execution_count": null,
   "metadata": {},
   "outputs": [],
   "source": [
    "# csdf = pd.read_csv('cs-courses.csv', index_col=False)\n",
    "# csdf.drop(columns=['averageGPA', 'studentCount', 'W', 'Subject'], inplace=True)\n",
    "# csdf = csdf.rename(columns={\"Number\": \"number\", \"Course Title\": \"courseTitle\", \"Year\": \"year\", \"Term\": \"term\", \"Primary Instructor\": \"primaryInstructor\"})\n",
    "# csdf.to_csv('starting-cs-course-data.csv', index=False)\n",
    "csdf = pd.read_csv('starting-cs-course-data.csv', index_col=False)\n",
    "csdf = csdf.rename(columns={'number': 'courseNo', 'A+': 'aPlus', 'A': 'a', 'A-': 'aMinus', 'B+': 'bPlus', 'B': 'b', 'B-': 'bMinus', 'C+': 'cPlus', 'C': 'c', 'C-': 'cMinus', 'D+': 'dPlus', 'D': 'd', 'D-': 'dMinus', 'F': 'f'})\n",
    "csdf.to_csv('starting-cs-course-data.csv', index=False)\n",
    "csdf "
   ]
  },
  {
   "cell_type": "code",
   "execution_count": null,
   "metadata": {},
   "outputs": [],
   "source": [
    "course_info = csdf[ ['courseNo', 'courseTitle', 'courseDesc'] ]\n",
    "course_info = course_info.drop_duplicates(keep='first')\n",
    "course_info.to_csv('cs-course-info.csv', index=False)\n",
    "course_info # primary key should be number and courseTitle"
   ]
  },
  {
   "cell_type": "markdown",
   "metadata": {},
   "source": [
    "```\n",
    "CREATE TABLE csCourse (\n",
    "    courseNo INT UNSIGNED NOT NULL DEFAULT 0,\n",
    "    courseTitle VARCHAR(500) DEFAULT \"\",\n",
    "    courseDesc BLOB,\n",
    "    PRIMARY KEY(courseNo, courseTitle)\n",
    ");\n",
    "```"
   ]
  },
  {
   "cell_type": "code",
   "execution_count": null,
   "metadata": {},
   "outputs": [],
   "source": [
    "course_grades = csdf[ ['courseNo', 'courseTitle', 'year', 'term', 'primaryInstructor', 'aPlus', 'a', 'aMinus', 'bPlus', 'b', 'bMinus', 'cPlus', 'c', 'cMinus', 'dPlus', 'd', 'dMinus', 'f']]\n",
    "course_grades.to_csv('cs-course-grades.csv', index=False)\n",
    "course_grades"
   ]
  },
  {
   "cell_type": "markdown",
   "metadata": {},
   "source": [
    "```\n",
    "CREATE TABLE csGrade (\n",
    "    courseNo INT UNSIGNED NOT NULL DEFAULT 0,\n",
    "    courseTitle VARCHAR(500) DEFAULT \"\",\n",
    "    year INT UNSIGNED NOT NULL DEFAULT 0,\n",
    "    term VARCHAR(10) NOT NULL DEFAULT \"\",\n",
    "    primaryInstructor VARCHAR(100) NOT NULL DEFAULT \"\",\n",
    "    aPlus INT UNSIGNED NOT NULL DEFAULT 0,\n",
    "    a INT UNSIGNED NOT NULL DEFAULT 0,\n",
    "    aMinus INT UNSIGNED NOT NULL DEFAULT 0,\n",
    "    bPlus INT UNSIGNED NOT NULL DEFAULT 0,\n",
    "    b INT UNSIGNED NOT NULL DEFAULT 0,\n",
    "    bMinus INT UNSIGNED NOT NULL DEFAULT 0,\n",
    "    cPlus INT UNSIGNED NOT NULL DEFAULT 0,\n",
    "    c INT UNSIGNED NOT NULL DEFAULT 0,\n",
    "    cMinus INT UNSIGNED NOT NULL DEFAULT 0,\n",
    "    dPlus INT UNSIGNED NOT NULL DEFAULT 0,\n",
    "    d INT UNSIGNED NOT NULL DEFAULT 0,\n",
    "    dMinus INT UNSIGNED NOT NULL DEFAULT 0,\n",
    "    f INT UNSIGNED NOT NULL DEFAULT 0, \n",
    "    PRIMARY KEY(courseNo, year, term, primaryInstructor),\n",
    "    FOREIGN KEY(courseNo) REFERENCES csCourse(courseNo)\n",
    "    ON DELETE CASCADE\n",
    "    ON UPDATE CASCADE\n",
    ");\n",
    "```"
   ]
  },
  {
   "cell_type": "markdown",
   "metadata": {},
   "source": [
    "LOAD DATA LOCAL INFILE 'cs-course-grades.csv' INTO TABLE csGrade CHARACTER SET 'utf8mb4' FIELDS TERMINATED BY ','  OPTIONALLY ENCLOSED BY '\"' ESCAPED BY '\\\"' LINES TERMINATED BY '\\r\\n' IGNORE 1 LINES;"
   ]
  },
  {
   "cell_type": "markdown",
   "metadata": {},
   "source": [
    "LOAD DATA LOCAL INFILE 'cs-course-info.csv' INTO TABLE csCourse CHARACTER SET 'utf8mb4' FIELDS TERMINATED BY ','  OPTIONALLY ENCLOSED BY '\"' ESCAPED BY '\\\"' LINES TERMINATED BY '\\r\\n' IGNORE 1 LINES;"
   ]
  },
  {
   "cell_type": "markdown",
   "metadata": {},
   "source": [
    "SELECT primaryInstructor, courseNo, (((SUM(aPlus) * 4) + (SUM(a) * 4) + (SUM(aMinus) * 3.67) + (SUM(bPlus) * 3.33) + (SUM(b) * 3) + (SUM(bMinus) * 2.67) + (SUM(cPlus) * 2.33) + (SUM(c) * 2) + (SUM(cMinus) * 1.67) + (SUM(dPlus) * 1.33) + (SUM(d) * 1) + (SUM(dMinus) * 0.67) + (SUM(f) * 0)) / (SUM(aPlus) + SUM(a) + SUM(aMinus) + SUM(bPlus) + SUM(b) + SUM(bMinus) + SUM(cPlus) + SUM(c) + SUM(cMinus) + SUM(dPlus) + SUM(d) + SUM(dMinus) + SUM(f))) as averageGPA\n",
    "FROM csGrade\n",
    "GROUP BY primaryInstructor, courseNo\n",
    "ORDER BY courseNo"
   ]
  },
  {
   "cell_type": "markdown",
   "metadata": {},
   "source": [
    "SELECT primaryInstructor, courseNo, courseTitle, courseDesc\n",
    "FROM csCourse NATURAL JOIN csGrade\n",
    "GROUP BY primaryInstructor, courseNo, courseTitle\n",
    "ORDER BY courseNo, primaryInstructor"
   ]
  },
  {
   "cell_type": "code",
   "execution_count": null,
   "metadata": {},
   "outputs": [],
   "source": []
  }
 ],
 "metadata": {
  "kernelspec": {
   "display_name": "Python 3",
   "language": "python",
   "name": "python3"
  },
  "language_info": {
   "codemirror_mode": {
    "name": "ipython",
    "version": 3
   },
   "file_extension": ".py",
   "mimetype": "text/x-python",
   "name": "python",
   "nbconvert_exporter": "python",
   "pygments_lexer": "ipython3",
   "version": "3.7.3"
  }
 },
 "nbformat": 4,
 "nbformat_minor": 2
}
