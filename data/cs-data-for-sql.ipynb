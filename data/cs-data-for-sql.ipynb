{
 "cells": [
  {
   "cell_type": "code",
   "execution_count": null,
   "metadata": {},
   "outputs": [],
   "source": [
    "import pandas as pd"
   ]
  },
  {
   "cell_type": "code",
   "execution_count": null,
   "metadata": {
    "scrolled": false
   },
   "outputs": [],
   "source": [
    "alldf = pd.read_csv('starting-all-course-data.csv', index_col=False)\n",
    "# alldf.drop(columns=['averageGPA', 'studentCount', 'W'], inplace=True)\n",
    "alldf = alldf.rename(columns={\"Number\": \"courseNo\", \"Course Title\": \"courseName\", \"Year\": \"year\", \"Term\": \"term\", \"Primary Instructor\": \"primaryInstructor\", \n",
    "                              'A+': 'aPlus', 'A': 'a', 'A-': 'aMinus', 'B+': 'bPlus', 'B': 'b', 'B-': 'bMinus', 'C+': 'cPlus', 'C': 'c', 'C-': 'cMinus', \n",
    "                              'D+': 'dPlus', 'D': 'd', 'D-': 'dMinus', 'F': 'f'})\n",
    "alldf = alldf[ alldf['term'] != 'Summer' ]\n",
    "alldf.to_csv('starting-all-course-data.csv', index=False)\n",
    "alldf"
   ]
  },
  {
   "cell_type": "code",
   "execution_count": null,
   "metadata": {},
   "outputs": [],
   "source": [
    "csdf = alldf[ alldf['Subject'] == 'CS']\n",
    "csdf.to_csv('starting-cs-course-data.csv', index=False)\n",
    "csdf"
   ]
  },
  {
   "cell_type": "code",
   "execution_count": null,
   "metadata": {},
   "outputs": [],
   "source": [
    "course_info = csdf[ ['courseNo', 'courseName', 'courseDesc'] ]\n",
    "course_info = course_info.drop_duplicates(keep='first')\n",
    "course_info.to_csv('cs-course-info.csv', index=False)\n",
    "course_info"
   ]
  },
  {
   "cell_type": "markdown",
   "metadata": {},
   "source": [
    "```\n",
    "CREATE TABLE csCourse (\n",
    "    courseNo INT UNSIGNED NOT NULL DEFAULT 0,\n",
    "    courseName VARCHAR(500) DEFAULT \"\",\n",
    "    courseDesc TEXT,\n",
    "    PRIMARY KEY(courseNo, courseName)\n",
    ");\n",
    "```"
   ]
  },
  {
   "cell_type": "code",
   "execution_count": null,
   "metadata": {},
   "outputs": [],
   "source": [
    "course_grades = csdf[ ['courseNo', 'courseName', 'year', 'term', 'primaryInstructor', 'aPlus', 'a', 'aMinus', 'bPlus', 'b', 'bMinus', 'cPlus', 'c', 'cMinus', 'dPlus', 'd', 'dMinus', 'f']]\n",
    "course_grades.to_csv('cs-course-grades.csv', index=False)\n",
    "course_grades"
   ]
  },
  {
   "cell_type": "markdown",
   "metadata": {},
   "source": [
    "```\n",
    "CREATE TABLE csGrade (\n",
    "    courseNo INT UNSIGNED NOT NULL DEFAULT 0,\n",
    "    courseName VARCHAR(500) NOT NULL DEFAULT \"\",\n",
    "    year INT UNSIGNED NOT NULL DEFAULT 0,\n",
    "    term VARCHAR(10) NOT NULL DEFAULT \"\",\n",
    "    primaryInstructor VARCHAR(100) NOT NULL DEFAULT \"\",\n",
    "    aPlus INT UNSIGNED NOT NULL DEFAULT 0,\n",
    "    a INT UNSIGNED NOT NULL DEFAULT 0,\n",
    "    aMinus INT UNSIGNED NOT NULL DEFAULT 0,\n",
    "    bPlus INT UNSIGNED NOT NULL DEFAULT 0,\n",
    "    b INT UNSIGNED NOT NULL DEFAULT 0,\n",
    "    bMinus INT UNSIGNED NOT NULL DEFAULT 0,\n",
    "    cPlus INT UNSIGNED NOT NULL DEFAULT 0,\n",
    "    c INT UNSIGNED NOT NULL DEFAULT 0,\n",
    "    cMinus INT UNSIGNED NOT NULL DEFAULT 0,\n",
    "    dPlus INT UNSIGNED NOT NULL DEFAULT 0,\n",
    "    d INT UNSIGNED NOT NULL DEFAULT 0,\n",
    "    dMinus INT UNSIGNED NOT NULL DEFAULT 0,\n",
    "    f INT UNSIGNED NOT NULL DEFAULT 0, \n",
    "    PRIMARY KEY(courseNo, courseName, year, term, primaryInstructor),\n",
    "    FOREIGN KEY(courseNo) REFERENCES csCourse(courseNo)\n",
    "    ON DELETE CASCADE\n",
    "    ON UPDATE CASCADE\n",
    ");\n",
    "```"
   ]
  },
  {
   "cell_type": "markdown",
   "metadata": {},
   "source": [
    "```\n",
    "LOAD DATA LOCAL INFILE 'cs-course-grades.csv' \n",
    "INTO TABLE csGrade \n",
    "CHARACTER SET 'utf8mb4' \n",
    "FIELDS TERMINATED BY ','  \n",
    "OPTIONALLY ENCLOSED BY '\"' \n",
    "ESCAPED BY '\\\"'\n",
    "LINES TERMINATED BY '\\r\\n' \n",
    "IGNORE 1 LINES;\n",
    "```"
   ]
  },
  {
   "cell_type": "markdown",
   "metadata": {},
   "source": [
    "```\n",
    "LOAD DATA LOCAL INFILE 'cs-course-info.csv' \n",
    "INTO TABLE csCourse \n",
    "CHARACTER SET 'utf8mb4' \n",
    "FIELDS TERMINATED BY ','  \n",
    "OPTIONALLY ENCLOSED BY '\"' \n",
    "ESCAPED BY '\\\"' \n",
    "LINES TERMINATED BY '\\r\\n' \n",
    "IGNORE 1 LINES;\n",
    "```"
   ]
  },
  {
   "cell_type": "markdown",
   "metadata": {},
   "source": [
    "```\n",
    "SELECT primaryInstructor, courseNo, courseName, (((SUM(aPlus) * 4) + (SUM(a) * 4) + (SUM(aMinus) * 3.67) + (SUM(bPlus) * 3.33) + (SUM(b) * 3) + (SUM(bMinus) * 2.67) + (SUM(cPlus) * 2.33) + (SUM(c) * 2) + (SUM(cMinus) * 1.67) + (SUM(dPlus) * 1.33) + (SUM(d) * 1) + (SUM(dMinus) * 0.67) + (SUM(f) * 0)) / (SUM(aPlus) + SUM(a) + SUM(aMinus) + SUM(bPlus) + SUM(b) + SUM(bMinus) + SUM(cPlus) + SUM(c) + SUM(cMinus) + SUM(dPlus) + SUM(d) + SUM(dMinus) + SUM(f))) as averageGPA\n",
    "FROM csGrade\n",
    "GROUP BY primaryInstructor, courseNo, courseName\n",
    "ORDER BY courseNo;\n",
    "```"
   ]
  },
  {
   "cell_type": "markdown",
   "metadata": {},
   "source": [
    "```\n",
    "SELECT primaryInstructor, courseNo, courseName, courseDesc\n",
    "FROM csCourse NATURAL JOIN csGrade\n",
    "GROUP BY primaryInstructor, courseNo, courseName\n",
    "ORDER BY courseNo, primaryInstructor;\n",
    "```"
   ]
  },
  {
   "cell_type": "code",
   "execution_count": null,
   "metadata": {},
   "outputs": [],
   "source": []
  }
 ],
 "metadata": {
  "kernelspec": {
   "display_name": "Python 3",
   "language": "python",
   "name": "python3"
  },
  "language_info": {
   "codemirror_mode": {
    "name": "ipython",
    "version": 3
   },
   "file_extension": ".py",
   "mimetype": "text/x-python",
   "name": "python",
   "nbconvert_exporter": "python",
   "pygments_lexer": "ipython3",
   "version": "3.7.3"
  }
 },
 "nbformat": 4,
 "nbformat_minor": 2
}
