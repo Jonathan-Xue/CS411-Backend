{
 "cells": [
  {
   "cell_type": "code",
   "execution_count": null,
   "metadata": {},
   "outputs": [],
   "source": [
    "import pandas as pd\n",
    "import requests\n",
    "from bs4 import BeautifulSoup"
   ]
  },
  {
   "cell_type": "code",
   "execution_count": null,
   "metadata": {},
   "outputs": [],
   "source": [
    "# uiucData = pd.read_csv('uiuc-gpa-dataset.csv')\n",
    "cs_courses_only = pd.read_csv('cs-uiuc-course-data.csv', index_col=False)\n",
    "cs_courses_only"
   ]
  },
  {
   "cell_type": "code",
   "execution_count": null,
   "metadata": {},
   "outputs": [],
   "source": [
    "agg_cs_courses = pd.read_csv('agg-cs-uiuc-course-data.csv', index_col=False)\n",
    "agg_cs_courses"
   ]
  },
  {
   "cell_type": "code",
   "execution_count": null,
   "metadata": {},
   "outputs": [],
   "source": [
    "gpaMappings = { \n",
    "    'A+': 4, \n",
    "    'A': 4, \n",
    "    'A-': 3.67, \n",
    "    'B+': 3.33, \n",
    "    'B': 3, \n",
    "    'B-': 2.67, \n",
    "    'C+': 2.33, \n",
    "    'C': 2, \n",
    "    'C-': 1.67, \n",
    "    'D+': 1.33, \n",
    "    'D': 1,\n",
    "    'D-': 0.67,\n",
    "    'F': 0,\n",
    "} # W is not calculated in GPA\n",
    "\n",
    "letters = ['A+', 'A', 'A-', 'B+', 'B', 'B-', 'C+', 'C', 'C-', 'D+', 'D', 'D-', 'F', 'W']"
   ]
  },
  {
   "cell_type": "code",
   "execution_count": null,
   "metadata": {},
   "outputs": [],
   "source": [
    "def averageGPA(row):\n",
    "    sumGrade = 0.0\n",
    "    count = 0.0\n",
    "    for letter in gpaMappings:\n",
    "        count += row[letter] \n",
    "        sumGrade += row[letter] * gpaMappings[letter]\n",
    "    return round(sumGrade / count, 3)\n",
    "\n",
    "def studentCount(row):\n",
    "    count = row['W']\n",
    "    for letter in gpaMappings:\n",
    "        count += row[letter]\n",
    "    return count\n",
    "    \n",
    "def getCourseDesc(subject, number, term, year):\n",
    "    baseUrl = 'https://courses.illinois.edu/schedule'\n",
    "    completeUrl = baseUrl + '/{}/{}/{}/{}'.format(year, term, subject, number) # /2020/spring/AAS/100'\n",
    "    coursePage = requests.get(completeUrl)\n",
    "    assert(coursePage.status_code == 200)\n",
    "    print(coursePage.url)\n",
    "    \n",
    "    pageSoup = BeautifulSoup(coursePage.content, 'html.parser')\n",
    "    try:\n",
    "        courseInfo = pageSoup.find(id='app-course-info')\n",
    "        cols = courseInfo.find_all(class_='col-sm-12')\n",
    "        lastCol = cols[-1]\n",
    "        paras = lastCol.find_all('p')\n",
    "        desc = paras[1].text\n",
    "        preReqIdx = desc.find('Prerequisite:')\n",
    "        sameAsIdx = desc.find('Same as')\n",
    "        cutoffIdx = min(preReqIdx, sameAsIdx)\n",
    "        if preReqIdx == -1 and sameAsIdx == -1:\n",
    "            cutoffIdx = len(desc) # no cutoff\n",
    "        elif preReqIdx == -1:\n",
    "            cutoffIdx = sameAsIdx # stop at 'Same as'\n",
    "        elif sameAsIdx == -1:\n",
    "            cutoffIdx = preReqIdx # stop at 'Prerequisite:'\n",
    "        # NOTE: there are additional irrelevant portions (i.e. other than the two filtered out above)\n",
    "        # in some course descriptions that are harder to auto-filter out.\n",
    "        onlyDesc = desc[:cutoffIdx]\n",
    "        return onlyDesc\n",
    "    except:\n",
    "        print(\"Failed.\")\n",
    "        return \"\""
   ]
  },
  {
   "cell_type": "code",
   "execution_count": null,
   "metadata": {},
   "outputs": [],
   "source": [
    "# allCourses = set()\n",
    "# for idx, row in uiucData.iterrows():\n",
    "#     allCourses.add(\",\".join([ row['Subject'], str(row['Number']), row['Term'], str(row['Year']) ]))\n",
    "    \n",
    "# print(len(allCourses))\n",
    "\n",
    "# i = 0\n",
    "# uiucData['courseDesc'] = \"\"\n",
    "# for course in allCourses:\n",
    "#     print(i)\n",
    "#     subject, number, term, year = course.split(\",\")\n",
    "#     number = int(number)\n",
    "#     year = int(year)\n",
    "#     courseDesc = getCourseDesc(subject, number, term, year)\n",
    "#     uiucData.loc[(uiucData['Subject'] == subject) & (uiucData['Number'] == number) & (uiucData['Term'] == term) & (uiucData['Year']), 'courseDesc'] = courseDesc\n",
    "#     i += 1"
   ]
  },
  {
   "cell_type": "code",
   "execution_count": null,
   "metadata": {},
   "outputs": [],
   "source": [
    "# allCourses = set()\n",
    "# for idx, row in ud.iterrows():\n",
    "#     allCourses.add(\",\".join([ row['Subject'], str(row['Number']) ]))\n",
    "    \n",
    "# for course in allCourses:\n",
    "#     subject, number = course.split(\",\")\n",
    "#     withDesc = ud[ (ud['Subject'] == subject) & (ud['Number'] == int(number)) & (ud['courseDesc'].str.len() > 0) ].reset_index()\n",
    "#     protoDesc = withDesc[ withDesc['courseDesc'].str.len() == withDesc['courseDesc'].str.len().max() ]['courseDesc']\n",
    "#     if len(protoDesc) == 0:\n",
    "#         ud.loc[ (ud['Subject'] == subject) & (ud['Number'] == int(number)), 'courseDesc' ] = \"\"\n",
    "#     else:\n",
    "#         ud.loc[ (ud['Subject'] == subject) & (ud['Number'] == int(number)), 'courseDesc' ] = protoDesc.iloc[0]\n",
    "\n",
    "# ud.to_csv('uiuc-gpa-data-with-desc.csv', index=False)\n",
    "# ud = pd.read_csv('uiuc-gpa-data-with-desc.csv', index_col=False)\n",
    "# cs_courses_only = ud[ ud['Subject'] == 'CS'].reset_index(drop=True)"
   ]
  },
  {
   "cell_type": "code",
   "execution_count": null,
   "metadata": {},
   "outputs": [],
   "source": [
    "# cs_courses_only = cs_courses_only[cs_courses_only['Term'] != 'Summer']\n",
    "# cs_courses_only.to_csv('cs-uiuc-course-data.csv', index=False)"
   ]
  },
  {
   "cell_type": "code",
   "execution_count": null,
   "metadata": {},
   "outputs": [],
   "source": [
    "# agg_dict = {}\n",
    "# for lt in letters:\n",
    "#     agg_dict[lt] = 'sum'\n",
    "\n",
    "# agg_dict['courseDesc'] = 'first'\n",
    "# agg_cs_courses = cs_courses_only.groupby(['Subject', 'Number', 'Course Title', 'Primary Instructor']).agg(agg_dict).reset_index()\n",
    "\n",
    "# agg_cs_courses['averageGPA'] = agg_cs_courses.apply(averageGPA, axis=1)\n",
    "# agg_cs_courses['studentCount'] = agg_cs_courses.apply(studentCount, axis=1)\n",
    "# agg_cs_courses.to_csv('agg-cs-uiuc-course-data.csv', index=False)\n",
    "# agg_cs_courses"
   ]
  },
  {
   "cell_type": "code",
   "execution_count": null,
   "metadata": {},
   "outputs": [],
   "source": []
  }
 ],
 "metadata": {
  "kernelspec": {
   "display_name": "Python 3",
   "language": "python",
   "name": "python3"
  },
  "language_info": {
   "codemirror_mode": {
    "name": "ipython",
    "version": 3
   },
   "file_extension": ".py",
   "mimetype": "text/x-python",
   "name": "python",
   "nbconvert_exporter": "python",
   "pygments_lexer": "ipython3",
   "version": "3.7.3"
  }
 },
 "nbformat": 4,
 "nbformat_minor": 2
}
